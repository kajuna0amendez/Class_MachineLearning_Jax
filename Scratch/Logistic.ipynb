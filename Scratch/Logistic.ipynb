{
 "cells": [
  {
   "cell_type": "code",
   "execution_count": 1,
   "id": "e222a7dd-f4aa-4dac-9447-20b88570ebf5",
   "metadata": {},
   "outputs": [],
   "source": [
    "import jax\n",
    "import jax_metrics as jm\n",
    "import jax.numpy as jnp\n",
    "from jax import grad, jit, vmap\n",
    "from functools import partial\n",
    "from jax import random\n",
    "import os\n",
    "import numpy as np\n",
    "import matplotlib.pyplot as plt\n",
    "# Switch off the cache \n",
    "os.environ['XLA_PYTHON_CLIENT_PREALLOCATE'] = 'false'\n",
    "os.environ['XLA_PYTHON_CLIENT_ALLOCATOR'] = 'platform'"
   ]
  },
  {
   "cell_type": "code",
   "execution_count": 2,
   "id": "0c41403b-bcc4-4e61-9eaf-d3a1d9820cd9",
   "metadata": {},
   "outputs": [
    {
     "data": {
      "text/plain": [
       "Array(1.3862944, dtype=float32, weak_type=True)"
      ]
     },
     "execution_count": 2,
     "metadata": {},
     "output_type": "execute_result"
    }
   ],
   "source": [
    "jnp.log(4)"
   ]
  },
  {
   "cell_type": "code",
   "execution_count": 3,
   "id": "d02b7bfe-83ac-40bd-849b-951fb614ffee",
   "metadata": {},
   "outputs": [
    {
     "name": "stdout",
     "output_type": "stream",
     "text": [
      "[0. 1. 2. 3. 4.]\n"
     ]
    }
   ],
   "source": [
    "dct = {'a': 0., 'b': jnp.arange(5.)}\n",
    "x = 1.\n",
    "def foo(dct):\n",
    " return dct['a'] + dct['b'] \n",
    "out = vmap(foo, in_axes=({'a': None, 'b': 0},))(dct)\n",
    "print(out)"
   ]
  },
  {
   "cell_type": "code",
   "execution_count": 4,
   "id": "3d39bf71-1d43-40c9-b15e-04aa2c5ca945",
   "metadata": {},
   "outputs": [],
   "source": [
    "@jit\n",
    "def logit_class(W: jnp, x:jnp, cl: int)->jnp:\n",
    "    return jnp.log(jnp.dot(W[cl,:], x)/(1.0 + jnp.sum(jnp.dot(W[0:-1,:], x), axis=0)))\n",
    "\n",
    "@jit\n",
    "def logit_class_k(W: jnp, x:jnp, cl: int)->jnp:\n",
    "    return jnp.log(1.0/(1.0 + jnp.sum(jnp.dot(W[0:-1,:], x), axis=0)))\n",
    "\n",
    "\n",
    "def logit_model(y):\n",
    "    \"\"\"\n",
    "    logit model\n",
    "    \"\"\"\n",
    "    global W, X, number_of_classes\n",
    "    cls = y.tolist()[0]\n",
    "    x = X[y.tolist()[0], :]\n",
    "    if idx!=number_of_classes-1:\n",
    "        result = logit_class(W, x, y)\n",
    "    else:\n",
    "        result = logit_class_k(W, x, y)\n",
    "    return result\n",
    "\n",
    "def model(W: jnp,  X: jnp, y: np, )->float:\n",
    "    number_of_classes = len(jnp.unique(y))\n",
    "    dct_lst = [{'W': W, 'X':X[idx, :], 'y': ind, 'number_of_classes': number_of_classes} for idx, ind in enumerate(y)]\n",
    "    print(dct_lst)\n",
    "    return jax.lax.map(logit_model, dct_lst)"
   ]
  },
  {
   "cell_type": "code",
   "execution_count": 5,
   "id": "f4162f80-34ab-4c18-9d84-6dcd17878c0d",
   "metadata": {},
   "outputs": [],
   "source": [
    "key = random.PRNGKey(0)\n",
    "keys = random.split(key, 2)\n",
    "W = random.normal(keys[0], (3,3))\n",
    "X = jax.numpy.hstack([random.normal(keys[0], (3,3)), jnp.ones((3, 1))])\n",
    "Y = jnp.array([[1], [2], [3]])"
   ]
  },
  {
   "cell_type": "code",
   "execution_count": 10,
   "id": "f0e00ba3-2a14-4ec8-b328-4e6774bea709",
   "metadata": {},
   "outputs": [
    {
     "data": {
      "text/plain": [
       "Array([[-2.6105583 ,  0.03385283,  1.0863333 ],\n",
       "       [-1.480299  ,  1.5403248 ,  1.062516  ],\n",
       "       [ 0.54174834,  0.0170228 ,  0.2722685 ]], dtype=float32)"
      ]
     },
     "execution_count": 10,
     "metadata": {},
     "output_type": "execute_result"
    }
   ],
   "source": [
    "W"
   ]
  },
  {
   "cell_type": "code",
   "execution_count": 11,
   "id": "69aea1d3-5fbe-45be-ae6a-2a23cb32b16f",
   "metadata": {},
   "outputs": [],
   "source": [
    "t = jnp.argmax(W, axis=0)"
   ]
  },
  {
   "cell_type": "code",
   "execution_count": 15,
   "id": "9ba4d9fe-4874-4ec6-8ec6-da2a283135c4",
   "metadata": {},
   "outputs": [
    {
     "data": {
      "text/plain": [
       "(3,)"
      ]
     },
     "execution_count": 15,
     "metadata": {},
     "output_type": "execute_result"
    }
   ],
   "source": [
    "t.shape"
   ]
  },
  {
   "cell_type": "code",
   "execution_count": 14,
   "id": "ddcf0732-35d8-4810-8e91-3f87a7d5c368",
   "metadata": {},
   "outputs": [
    {
     "data": {
      "text/plain": [
       "-5.18726377"
      ]
     },
     "execution_count": 14,
     "metadata": {},
     "output_type": "execute_result"
    }
   ],
   "source": [
    "2*-2.6105583+0.03385283"
   ]
  },
  {
   "cell_type": "code",
   "execution_count": 12,
   "id": "bed8d462-1154-4535-930c-76fd821a3a9d",
   "metadata": {},
   "outputs": [
    {
     "data": {
      "text/plain": [
       "Array([-5.1872635, -1.4202732,  1.1005195], dtype=float32)"
      ]
     },
     "execution_count": 12,
     "metadata": {},
     "output_type": "execute_result"
    }
   ],
   "source": [
    "W@t"
   ]
  },
  {
   "cell_type": "code",
   "execution_count": null,
   "id": "84f4a375-b566-448f-9033-ea1fcfc50713",
   "metadata": {},
   "outputs": [],
   "source": [
    "Y.tolist()[1][0]"
   ]
  },
  {
   "cell_type": "code",
   "execution_count": null,
   "id": "8a384484-0eb7-4a03-98f4-51a2c8b5c559",
   "metadata": {},
   "outputs": [],
   "source": [
    "logits[Y.tolist()[1][0]](W, X, Y.tolist()[1][0])"
   ]
  },
  {
   "cell_type": "code",
   "execution_count": null,
   "id": "05715924-9b98-4d87-9169-c25cb28b05c7",
   "metadata": {},
   "outputs": [],
   "source": [
    "logits[1](W, X, 1)"
   ]
  },
  {
   "cell_type": "code",
   "execution_count": null,
   "id": "63d769dc-5ff2-4e0c-8333-e8dbd54959af",
   "metadata": {},
   "outputs": [],
   "source": [
    "logits[2](W, X, 0)"
   ]
  },
  {
   "cell_type": "code",
   "execution_count": 44,
   "id": "c5f8e33f-c9f3-48e5-a3a0-f494f3ac7d24",
   "metadata": {},
   "outputs": [],
   "source": [
    "t = jnp.reshape(jnp.array([0.1, 1, 1]), newshape=(1, 3))"
   ]
  },
  {
   "cell_type": "code",
   "execution_count": 45,
   "id": "4036ebbd-5f99-45b6-8661-f9ce1514db2d",
   "metadata": {},
   "outputs": [
    {
     "data": {
      "text/plain": [
       "(1, 3)"
      ]
     },
     "execution_count": 45,
     "metadata": {},
     "output_type": "execute_result"
    }
   ],
   "source": [
    "t.shape"
   ]
  },
  {
   "cell_type": "code",
   "execution_count": 46,
   "id": "5246096b-840a-4765-80e9-60218ac21844",
   "metadata": {},
   "outputs": [],
   "source": [
    "s = jnp.repeat(t, repeats=5, axis=0)"
   ]
  },
  {
   "cell_type": "code",
   "execution_count": 47,
   "id": "07fd5681-3f99-4493-b2f3-d28d536ab1f1",
   "metadata": {},
   "outputs": [
    {
     "data": {
      "text/plain": [
       "(3,)"
      ]
     },
     "execution_count": 47,
     "metadata": {},
     "output_type": "execute_result"
    }
   ],
   "source": [
    "jnp.sum(s, axis=0).shape"
   ]
  },
  {
   "cell_type": "code",
   "execution_count": 48,
   "id": "d960bad3-ae88-4b0c-b7dd-67b4e049b58c",
   "metadata": {},
   "outputs": [
    {
     "data": {
      "text/plain": [
       "Array([[10.,  1.,  1.]], dtype=float32)"
      ]
     },
     "execution_count": 48,
     "metadata": {},
     "output_type": "execute_result"
    }
   ],
   "source": [
    "1/t"
   ]
  },
  {
   "cell_type": "code",
   "execution_count": 49,
   "id": "1c03bf4e-1233-4bad-9600-f98169dec291",
   "metadata": {},
   "outputs": [
    {
     "data": {
      "text/plain": [
       "Array([[0.1, 1. , 1. ],\n",
       "       [0.1, 1. , 1. ],\n",
       "       [0.1, 1. , 1. ],\n",
       "       [0.1, 1. , 1. ],\n",
       "       [0.1, 1. , 1. ]], dtype=float32)"
      ]
     },
     "execution_count": 49,
     "metadata": {},
     "output_type": "execute_result"
    }
   ],
   "source": [
    "s"
   ]
  },
  {
   "cell_type": "code",
   "execution_count": 50,
   "id": "8ee7c444-7f5b-4878-b64f-fe77bbcf46d8",
   "metadata": {},
   "outputs": [
    {
     "data": {
      "text/plain": [
       "Array([[0.01, 1.  , 1.  ],\n",
       "       [0.01, 1.  , 1.  ],\n",
       "       [0.01, 1.  , 1.  ],\n",
       "       [0.01, 1.  , 1.  ],\n",
       "       [0.01, 1.  , 1.  ]], dtype=float32)"
      ]
     },
     "execution_count": 50,
     "metadata": {},
     "output_type": "execute_result"
    }
   ],
   "source": [
    "s*s"
   ]
  },
  {
   "cell_type": "code",
   "execution_count": 51,
   "id": "6d64542b-0550-4039-83a8-3f171f4b609d",
   "metadata": {},
   "outputs": [
    {
     "data": {
      "text/plain": [
       "Array([[0.1, 1. , 1. ],\n",
       "       [0.1, 1. , 1. ],\n",
       "       [0.1, 1. , 1. ],\n",
       "       [0.1, 1. , 1. ],\n",
       "       [0.1, 1. , 1. ]], dtype=float32)"
      ]
     },
     "execution_count": 51,
     "metadata": {},
     "output_type": "execute_result"
    }
   ],
   "source": [
    "s"
   ]
  },
  {
   "cell_type": "code",
   "execution_count": 52,
   "id": "e32ae48b-a9de-49e9-b2a5-c3566e0cc0f6",
   "metadata": {},
   "outputs": [],
   "source": [
    "s = jnp.vstack([s, 1/t])"
   ]
  },
  {
   "cell_type": "code",
   "execution_count": 53,
   "id": "eb980e11-57a6-4576-9dd5-dbe1ca6a955e",
   "metadata": {},
   "outputs": [
    {
     "data": {
      "text/plain": [
       "Array([[ 0.1,  1. ,  1. ],\n",
       "       [ 0.1,  1. ,  1. ],\n",
       "       [ 0.1,  1. ,  1. ],\n",
       "       [ 0.1,  1. ,  1. ],\n",
       "       [ 0.1,  1. ,  1. ],\n",
       "       [10. ,  1. ,  1. ]], dtype=float32)"
      ]
     },
     "execution_count": 53,
     "metadata": {},
     "output_type": "execute_result"
    }
   ],
   "source": [
    "s"
   ]
  },
  {
   "cell_type": "code",
   "execution_count": 55,
   "id": "f8ed4ab6-4c25-4ede-a978-3644729272e1",
   "metadata": {},
   "outputs": [
    {
     "data": {
      "text/plain": [
       "Array([[4.7502080e-01, 2.6894143e-01, 2.6894143e-01],\n",
       "       [4.7502080e-01, 2.6894143e-01, 2.6894143e-01],\n",
       "       [4.7502080e-01, 2.6894143e-01, 2.6894143e-01],\n",
       "       [4.7502080e-01, 2.6894143e-01, 2.6894143e-01],\n",
       "       [4.7502080e-01, 2.6894143e-01, 2.6894143e-01],\n",
       "       [4.5397868e-05, 2.6894143e-01, 2.6894143e-01]], dtype=float32)"
      ]
     },
     "execution_count": 55,
     "metadata": {},
     "output_type": "execute_result"
    }
   ],
   "source": [
    "1.0/(1.0 + jnp.exp(s))"
   ]
  },
  {
   "cell_type": "code",
   "execution_count": 58,
   "id": "8a58a36b-f860-4e4c-b728-ad6570c64d80",
   "metadata": {},
   "outputs": [],
   "source": [
    "t = jnp.transpose(jax.nn.one_hot(jnp.array([0, 1, 2, 1, 1]), 3))"
   ]
  },
  {
   "cell_type": "code",
   "execution_count": 59,
   "id": "6778f109-b8d0-4350-a3ba-81672345bd9f",
   "metadata": {},
   "outputs": [
    {
     "data": {
      "text/plain": [
       "Array([[1., 0., 0., 0., 0.],\n",
       "       [0., 1., 0., 1., 1.],\n",
       "       [0., 0., 1., 0., 0.]], dtype=float32)"
      ]
     },
     "execution_count": 59,
     "metadata": {},
     "output_type": "execute_result"
    }
   ],
   "source": [
    "t"
   ]
  },
  {
   "cell_type": "code",
   "execution_count": 60,
   "id": "c1c0859a-edc2-4b04-961b-67aa3f0ba2fb",
   "metadata": {},
   "outputs": [
    {
     "data": {
      "text/plain": [
       "Array([[1., 1., 1., 1., 1., 1., 1., 1., 1., 1.]], dtype=float32)"
      ]
     },
     "execution_count": 60,
     "metadata": {},
     "output_type": "execute_result"
    }
   ],
   "source": [
    "jnp.ones((1, 10))"
   ]
  },
  {
   "cell_type": "code",
   "execution_count": 16,
   "id": "6690cdee-c185-43f8-a4c5-8f4070fb5c73",
   "metadata": {},
   "outputs": [],
   "source": [
    "alpha = 2"
   ]
  },
  {
   "cell_type": "code",
   "execution_count": 17,
   "id": "63ad77f5-18ab-4d25-90ec-c07df24de7d5",
   "metadata": {},
   "outputs": [],
   "source": [
    "alpha /= 2"
   ]
  },
  {
   "cell_type": "code",
   "execution_count": 18,
   "id": "1ef53b12-9574-4dca-8b36-0598066d8fa1",
   "metadata": {},
   "outputs": [
    {
     "data": {
      "text/plain": [
       "1.0"
      ]
     },
     "execution_count": 18,
     "metadata": {},
     "output_type": "execute_result"
    }
   ],
   "source": [
    "alpha"
   ]
  },
  {
   "cell_type": "code",
   "execution_count": 19,
   "id": "2ecaf3b0-6283-475f-a8f1-5d605a3badb8",
   "metadata": {},
   "outputs": [],
   "source": [
    "key = random.PRNGKey(0)\n",
    "keys = random.split(key, 1)\n",
    "X = random.normal(keys[0], (2, 10))"
   ]
  },
  {
   "cell_type": "code",
   "execution_count": 20,
   "id": "16dbc392-4e1b-4bce-a9ef-92e541f0d55f",
   "metadata": {},
   "outputs": [
    {
     "data": {
      "text/plain": [
       "Array([[-0.74996024,  0.5132945 , -2.1002128 , -1.3719002 ,  1.6364152 ,\n",
       "        -2.6171365 , -0.251998  ,  0.1812941 ,  0.5050053 , -0.02773665],\n",
       "       [-0.41538277, -1.6634675 ,  1.721781  ,  0.8013188 ,  0.44873542,\n",
       "         0.631671  ,  0.49231628,  0.03253433,  2.4587312 , -0.19775471]],      dtype=float32)"
      ]
     },
     "execution_count": 20,
     "metadata": {},
     "output_type": "execute_result"
    }
   ],
   "source": [
    "X"
   ]
  },
  {
   "cell_type": "code",
   "execution_count": 21,
   "id": "456dbe15-0a2f-472b-aaec-0284356bad38",
   "metadata": {},
   "outputs": [
    {
     "data": {
      "text/plain": [
       "Array([[4.2500396, 5.5132947, 2.8997872, 3.6281   , 6.6364155, 2.3828635,\n",
       "        4.748002 , 5.181294 , 5.5050054, 4.9722633],\n",
       "       [4.584617 , 3.3365326, 6.721781 , 5.8013186, 5.448735 , 5.631671 ,\n",
       "        5.4923162, 5.032534 , 7.458731 , 4.802245 ]], dtype=float32)"
      ]
     },
     "execution_count": 21,
     "metadata": {},
     "output_type": "execute_result"
    }
   ],
   "source": [
    "X + 5*jnp.ones((2, 1))"
   ]
  },
  {
   "cell_type": "code",
   "execution_count": 22,
   "id": "73c05bfe-63bf-4cef-9b11-351cdc6057ab",
   "metadata": {},
   "outputs": [
    {
     "data": {
      "text/plain": [
       "Array([[-0.74996024,  0.5132945 , -2.1002128 , -1.3719002 ,  1.6364152 ,\n",
       "        -2.6171365 , -0.251998  ,  0.1812941 ,  0.5050053 , -0.02773665],\n",
       "       [-0.41538277, -1.6634675 ,  1.721781  ,  0.8013188 ,  0.44873542,\n",
       "         0.631671  ,  0.49231628,  0.03253433,  2.4587312 , -0.19775471]],      dtype=float32)"
      ]
     },
     "execution_count": 22,
     "metadata": {},
     "output_type": "execute_result"
    }
   ],
   "source": [
    "X"
   ]
  },
  {
   "cell_type": "code",
   "execution_count": 23,
   "id": "c889de02-0a17-4811-8177-1d2353557e0e",
   "metadata": {},
   "outputs": [
    {
     "data": {
      "text/plain": [
       "Array([[5.],\n",
       "       [5.]], dtype=float32)"
      ]
     },
     "execution_count": 23,
     "metadata": {},
     "output_type": "execute_result"
    }
   ],
   "source": [
    "5*jnp.ones((2, 1))"
   ]
  },
  {
   "cell_type": "code",
   "execution_count": null,
   "id": "10d4a63e-d0c8-4889-9d94-8a1e4a375b39",
   "metadata": {},
   "outputs": [],
   "source": []
  }
 ],
 "metadata": {
  "kernelspec": {
   "display_name": "Python 3 (ipykernel)",
   "language": "python",
   "name": "python3"
  },
  "language_info": {
   "codemirror_mode": {
    "name": "ipython",
    "version": 3
   },
   "file_extension": ".py",
   "mimetype": "text/x-python",
   "name": "python",
   "nbconvert_exporter": "python",
   "pygments_lexer": "ipython3",
   "version": "3.9.12"
  }
 },
 "nbformat": 4,
 "nbformat_minor": 5
}
