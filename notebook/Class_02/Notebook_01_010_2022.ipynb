{
 "cells": [
  {
   "cell_type": "code",
   "execution_count": 1,
   "id": "8e6b124d-a15a-4ee5-995b-eec98acaa393",
   "metadata": {},
   "outputs": [],
   "source": [
    "# Module Imports\n",
    "import mariadb\n",
    "import sys\n",
    "\n",
    "# Connect to MariaDB Platform\n",
    "try:\n",
    "    conn = mariadb.connect(\n",
    "        user=\"root\",\n",
    "        password=\"--------\",\n",
    "        host=\"172.17.0.2\",\n",
    "        port=3306,\n",
    "        database=\"employees\"\n",
    "    )\n",
    "except mariadb.Error as e:\n",
    "    print(f\"Error connecting to MariaDB Platform: {e}\")\n",
    "    sys.exit(1)\n",
    "# Get Cursor\n",
    "cur = conn.cursor()"
   ]
  },
  {
   "cell_type": "code",
   "execution_count": 2,
   "id": "f9170f56-22d7-428b-b607-a5496612c6bd",
   "metadata": {},
   "outputs": [],
   "source": [
    "cur.execute(\n",
    "    '''select employees.first_name, employees.last_name, salaries.salary, salaries.to_date from employees \n",
    "       inner join salaries on employees.emp_no = salaries.emp_no LIMIT 50000;''')"
   ]
  },
  {
   "cell_type": "code",
   "execution_count": 3,
   "id": "81fdc0b0-f0f8-451e-a40c-16231fea0385",
   "metadata": {},
   "outputs": [],
   "source": [
    "main_lst = []\n",
    "for allthem in cur:\n",
    "    element_list = []\n",
    "    for element in allthem:\n",
    "        element_list.append(element)\n",
    "    main_lst.append(element_list)"
   ]
  },
  {
   "cell_type": "code",
   "execution_count": 4,
   "id": "eb743d63-0a37-4db5-be29-96bfd6739a2d",
   "metadata": {},
   "outputs": [
    {
     "data": {
      "text/plain": [
       "50000"
      ]
     },
     "execution_count": 4,
     "metadata": {},
     "output_type": "execute_result"
    }
   ],
   "source": [
    "len(main_lst)"
   ]
  },
  {
   "cell_type": "code",
   "execution_count": 5,
   "id": "a840b203-e426-44d4-be5b-ad34dbafc1f7",
   "metadata": {},
   "outputs": [],
   "source": [
    "import pandas as pd"
   ]
  },
  {
   "cell_type": "code",
   "execution_count": 6,
   "id": "25b6ad51-6be1-4f60-8468-35340371f833",
   "metadata": {},
   "outputs": [],
   "source": [
    "columns = ['first_name', 'last_name', 'salary', 'to_date']\n",
    "df = pd.DataFrame(main_lst, columns = columns)"
   ]
  },
  {
   "cell_type": "code",
   "execution_count": 7,
   "id": "0f356e83-ae40-47bd-9343-bb53a56f5a3b",
   "metadata": {},
   "outputs": [
    {
     "data": {
      "text/html": [
       "<div>\n",
       "<style scoped>\n",
       "    .dataframe tbody tr th:only-of-type {\n",
       "        vertical-align: middle;\n",
       "    }\n",
       "\n",
       "    .dataframe tbody tr th {\n",
       "        vertical-align: top;\n",
       "    }\n",
       "\n",
       "    .dataframe thead th {\n",
       "        text-align: right;\n",
       "    }\n",
       "</style>\n",
       "<table border=\"1\" class=\"dataframe\">\n",
       "  <thead>\n",
       "    <tr style=\"text-align: right;\">\n",
       "      <th></th>\n",
       "      <th>first_name</th>\n",
       "      <th>last_name</th>\n",
       "      <th>salary</th>\n",
       "      <th>to_date</th>\n",
       "    </tr>\n",
       "  </thead>\n",
       "  <tbody>\n",
       "    <tr>\n",
       "      <th>0</th>\n",
       "      <td>Georgi</td>\n",
       "      <td>Facello</td>\n",
       "      <td>60117</td>\n",
       "      <td>1987-06-26</td>\n",
       "    </tr>\n",
       "    <tr>\n",
       "      <th>1</th>\n",
       "      <td>Georgi</td>\n",
       "      <td>Facello</td>\n",
       "      <td>62102</td>\n",
       "      <td>1988-06-25</td>\n",
       "    </tr>\n",
       "    <tr>\n",
       "      <th>2</th>\n",
       "      <td>Georgi</td>\n",
       "      <td>Facello</td>\n",
       "      <td>66074</td>\n",
       "      <td>1989-06-25</td>\n",
       "    </tr>\n",
       "    <tr>\n",
       "      <th>3</th>\n",
       "      <td>Georgi</td>\n",
       "      <td>Facello</td>\n",
       "      <td>66596</td>\n",
       "      <td>1990-06-25</td>\n",
       "    </tr>\n",
       "    <tr>\n",
       "      <th>4</th>\n",
       "      <td>Georgi</td>\n",
       "      <td>Facello</td>\n",
       "      <td>66961</td>\n",
       "      <td>1991-06-25</td>\n",
       "    </tr>\n",
       "    <tr>\n",
       "      <th>...</th>\n",
       "      <td>...</td>\n",
       "      <td>...</td>\n",
       "      <td>...</td>\n",
       "      <td>...</td>\n",
       "    </tr>\n",
       "    <tr>\n",
       "      <th>995</th>\n",
       "      <td>Hironobu</td>\n",
       "      <td>Haraldson</td>\n",
       "      <td>70464</td>\n",
       "      <td>1999-09-18</td>\n",
       "    </tr>\n",
       "    <tr>\n",
       "      <th>996</th>\n",
       "      <td>Hironobu</td>\n",
       "      <td>Haraldson</td>\n",
       "      <td>72343</td>\n",
       "      <td>2000-09-17</td>\n",
       "    </tr>\n",
       "    <tr>\n",
       "      <th>997</th>\n",
       "      <td>Hironobu</td>\n",
       "      <td>Haraldson</td>\n",
       "      <td>74365</td>\n",
       "      <td>2001-09-17</td>\n",
       "    </tr>\n",
       "    <tr>\n",
       "      <th>998</th>\n",
       "      <td>Hironobu</td>\n",
       "      <td>Haraldson</td>\n",
       "      <td>74957</td>\n",
       "      <td>9999-01-01</td>\n",
       "    </tr>\n",
       "    <tr>\n",
       "      <th>999</th>\n",
       "      <td>Perla</td>\n",
       "      <td>Heyers</td>\n",
       "      <td>66591</td>\n",
       "      <td>1999-10-14</td>\n",
       "    </tr>\n",
       "  </tbody>\n",
       "</table>\n",
       "<p>1000 rows × 4 columns</p>\n",
       "</div>"
      ],
      "text/plain": [
       "    first_name  last_name  salary     to_date\n",
       "0       Georgi    Facello   60117  1987-06-26\n",
       "1       Georgi    Facello   62102  1988-06-25\n",
       "2       Georgi    Facello   66074  1989-06-25\n",
       "3       Georgi    Facello   66596  1990-06-25\n",
       "4       Georgi    Facello   66961  1991-06-25\n",
       "..         ...        ...     ...         ...\n",
       "995   Hironobu  Haraldson   70464  1999-09-18\n",
       "996   Hironobu  Haraldson   72343  2000-09-17\n",
       "997   Hironobu  Haraldson   74365  2001-09-17\n",
       "998   Hironobu  Haraldson   74957  9999-01-01\n",
       "999      Perla     Heyers   66591  1999-10-14\n",
       "\n",
       "[1000 rows x 4 columns]"
      ]
     },
     "execution_count": 7,
     "metadata": {},
     "output_type": "execute_result"
    }
   ],
   "source": [
    "df.iloc[0:1000]"
   ]
  },
  {
   "cell_type": "code",
   "execution_count": null,
   "id": "29504181-c13a-4d6b-9774-fca93cb7909e",
   "metadata": {},
   "outputs": [],
   "source": []
  }
 ],
 "metadata": {
  "kernelspec": {
   "display_name": "Python 3 (ipykernel)",
   "language": "python",
   "name": "python3"
  },
  "language_info": {
   "codemirror_mode": {
    "name": "ipython",
    "version": 3
   },
   "file_extension": ".py",
   "mimetype": "text/x-python",
   "name": "python",
   "nbconvert_exporter": "python",
   "pygments_lexer": "ipython3",
   "version": "3.9.12"
  }
 },
 "nbformat": 4,
 "nbformat_minor": 5
}
