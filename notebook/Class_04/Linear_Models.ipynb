{
 "cells": [
  {
   "cell_type": "code",
   "execution_count": 2,
   "id": "f640ac27-6760-412c-bffc-3ed5c75f7adc",
   "metadata": {},
   "outputs": [],
   "source": [
    "import jax\n",
    "import jax_metrics as jm\n",
    "import jax.numpy as jnp\n",
    "from jax import grad, jit, vmap\n",
    "from functools import partial\n",
    "from jax import random\n",
    "from jax.scipy.special import logsumexp\n",
    "import os\n",
    "os.environ['XLA_PYTHON_CLIENT_PREALLOCATE'] = 'false'\n",
    "os.environ['XLA_PYTHON_CLIENT_ALLOCATOR'] = 'platform'"
   ]
  },
  {
   "cell_type": "code",
   "execution_count": 3,
   "id": "a1a47c36-3e3d-4dc2-964a-8cc5b9f3114f",
   "metadata": {},
   "outputs": [],
   "source": [
    "class Linear_Model():\n",
    "    \"\"\"\n",
    "    Classic \n",
    "    \"\"\"    \n",
    "    def __init__(X: jnp):\n",
    "        self.X = X\n",
    "        self.w = jnp.\n",
    "    \n",
    "    def fit():\n",
    "        pass\n",
    "    "
   ]
  },
  {
   "cell_type": "code",
   "execution_count": null,
   "id": "e8981004-afb1-471c-b5a7-a40ba5c7b8b0",
   "metadata": {},
   "outputs": [],
   "source": []
  }
 ],
 "metadata": {
  "kernelspec": {
   "display_name": "Python 3 (ipykernel)",
   "language": "python",
   "name": "python3"
  },
  "language_info": {
   "codemirror_mode": {
    "name": "ipython",
    "version": 3
   },
   "file_extension": ".py",
   "mimetype": "text/x-python",
   "name": "python",
   "nbconvert_exporter": "python",
   "pygments_lexer": "ipython3",
   "version": "3.9.12"
  }
 },
 "nbformat": 4,
 "nbformat_minor": 5
}
